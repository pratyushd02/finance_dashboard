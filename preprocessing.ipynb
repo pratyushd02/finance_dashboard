{
 "cells": [
  {
   "cell_type": "code",
   "execution_count": 19,
   "metadata": {},
   "outputs": [],
   "source": [
    "import pandas as pd"
   ]
  },
  {
   "cell_type": "code",
   "execution_count": 22,
   "metadata": {},
   "outputs": [],
   "source": [
    "file_path = 'datasets/MutualFund.csv'  # Replace with your file path\n",
    "data = pd.read_csv(file_path, header=None)  # Load without headers to inspect structure\n",
    "\n",
    "# Combine the first two rows to create meaningful column names\n",
    "column_names = data.iloc[0].fillna('') + ' ' + data.iloc[1].fillna('')\n",
    "data.columns = column_names.str.strip()\n",
    "\n",
    "# Drop the first two rows (now part of the header) and reset the data\n",
    "data = data.iloc[2:].reset_index(drop=True)\n",
    "\n",
    "# Rename the 'Date ' column to 'Date'\n",
    "data.rename(columns={data.columns[0]: 'Date'}, inplace=True)\n",
    "\n",
    "# Melt the dataset to long format\n",
    "reshaped_data = pd.melt(data, id_vars=['Date'], var_name='Metric_Stock', value_name='Value')\n",
    "\n",
    "# Split 'Metric_Stock' into 'Metric' and 'Stock'\n",
    "reshaped_data[['Metric', 'Stock']] = reshaped_data['Metric_Stock'].str.rsplit(' ', n=1, expand=True)\n",
    "\n",
    "# Drop the intermediate column and clean the data\n",
    "reshaped_data = reshaped_data.drop(columns=['Metric_Stock']).dropna(subset=['Date', 'Value'])\n",
    "\n",
    "# Pivot the dataset so metrics become column headings\n",
    "reshaped_pivot = reshaped_data.pivot(index=['Stock', 'Date'], columns='Metric', values='Value').reset_index()\n",
    "\n",
    "# Flatten the column index\n",
    "reshaped_pivot.columns.name = None  # Remove column metadata\n",
    "reshaped_pivot.columns = [col if isinstance(col, str) else str(col) for col in reshaped_pivot.columns]\n",
    "\n",
    "reshaped_pivot\n",
    "reshaped_pivot.to_csv(\"transformed_data_mf.csv\", index=False)\n"
   ]
  },
  {
   "cell_type": "code",
   "execution_count": 26,
   "metadata": {},
   "outputs": [],
   "source": [
    "file_path = 'datasets/IndexFund.csv'  # Replace with your file path\n",
    "data = pd.read_csv(file_path, header=None)  # Load without headers to inspect structure\n",
    "\n",
    "# Combine the first two rows to create meaningful column names\n",
    "column_names = data.iloc[0].fillna('') + ' ' + data.iloc[1].fillna('')\n",
    "data.columns = column_names.str.strip()\n",
    "\n",
    "# Drop the first two rows (now part of the header) and reset the data\n",
    "data = data.iloc[2:].reset_index(drop=True)\n",
    "\n",
    "# Rename the 'Date ' column to 'Date'\n",
    "data.rename(columns={data.columns[0]: 'Date'}, inplace=True)\n",
    "\n",
    "# Melt the dataset to long format\n",
    "reshaped_data = pd.melt(data, id_vars=['Date'], var_name='Metric_Stock', value_name='Value')\n",
    "\n",
    "# Split 'Metric_Stock' into 'Metric' and 'Stock'\n",
    "reshaped_data[['Metric', 'Stock']] = reshaped_data['Metric_Stock'].str.rsplit(' ', n=1, expand=True)\n",
    "\n",
    "# Drop the intermediate column and clean the data\n",
    "reshaped_data = reshaped_data.drop(columns=['Metric_Stock']).dropna(subset=['Date', 'Value'])\n",
    "\n",
    "# Pivot the dataset so metrics become column headings\n",
    "reshaped_pivot = reshaped_data.pivot(index=['Stock', 'Date'], columns='Metric', values='Value').reset_index()\n",
    "\n",
    "# Flatten the column index\n",
    "reshaped_pivot.columns.name = None  # Remove column metadata\n",
    "reshaped_pivot.columns = [col if isinstance(col, str) else str(col) for col in reshaped_pivot.columns]\n",
    "\n",
    "reshaped_pivot\n",
    "reshaped_pivot.to_csv(\"transformed_data_if.csv\", index=False)\n"
   ]
  },
  {
   "cell_type": "code",
   "execution_count": 27,
   "metadata": {},
   "outputs": [],
   "source": [
    "file_path = 'datasets/ETF.csv'  # Replace with your file path\n",
    "data = pd.read_csv(file_path, header=None)  # Load without headers to inspect structure\n",
    "\n",
    "# Combine the first two rows to create meaningful column names\n",
    "column_names = data.iloc[0].fillna('') + ' ' + data.iloc[1].fillna('')\n",
    "data.columns = column_names.str.strip()\n",
    "\n",
    "# Drop the first two rows (now part of the header) and reset the data\n",
    "data = data.iloc[2:].reset_index(drop=True)\n",
    "\n",
    "# Rename the 'Date ' column to 'Date'\n",
    "data.rename(columns={data.columns[0]: 'Date'}, inplace=True)\n",
    "\n",
    "# Melt the dataset to long format\n",
    "reshaped_data = pd.melt(data, id_vars=['Date'], var_name='Metric_Stock', value_name='Value')\n",
    "\n",
    "# Split 'Metric_Stock' into 'Metric' and 'Stock'\n",
    "reshaped_data[['Metric', 'Stock']] = reshaped_data['Metric_Stock'].str.rsplit(' ', n=1, expand=True)\n",
    "\n",
    "# Drop the intermediate column and clean the data\n",
    "reshaped_data = reshaped_data.drop(columns=['Metric_Stock']).dropna(subset=['Date', 'Value'])\n",
    "\n",
    "# Pivot the dataset so metrics become column headings\n",
    "reshaped_pivot = reshaped_data.pivot(index=['Stock', 'Date'], columns='Metric', values='Value').reset_index()\n",
    "\n",
    "# Flatten the column index\n",
    "reshaped_pivot.columns.name = None  # Remove column metadata\n",
    "reshaped_pivot.columns = [col if isinstance(col, str) else str(col) for col in reshaped_pivot.columns]\n",
    "\n",
    "reshaped_pivot\n",
    "reshaped_pivot.to_csv(\"transformed_data_etf.csv\", index=False)\n"
   ]
  },
  {
   "cell_type": "code",
   "execution_count": 2,
   "metadata": {},
   "outputs": [
    {
     "data": {
      "application/javascript": "\n        if (window._pyforest_update_imports_cell) { window._pyforest_update_imports_cell('import pandas as pd'); }\n    ",
      "text/plain": [
       "<IPython.core.display.Javascript object>"
      ]
     },
     "metadata": {},
     "output_type": "display_data"
    },
    {
     "data": {
      "application/javascript": "\n        if (window._pyforest_update_imports_cell) { window._pyforest_update_imports_cell('import pandas as pd'); }\n    ",
      "text/plain": [
       "<IPython.core.display.Javascript object>"
      ]
     },
     "metadata": {},
     "output_type": "display_data"
    },
    {
     "data": {
      "application/javascript": "\n        if (window._pyforest_update_imports_cell) { window._pyforest_update_imports_cell('import pandas as pd'); }\n    ",
      "text/plain": [
       "<IPython.core.display.Javascript object>"
      ]
     },
     "metadata": {},
     "output_type": "display_data"
    }
   ],
   "source": [
    "mf = pd.read_csv(\"datasets/transformed_data_mf.csv\")\n",
    "i_f = pd.read_csv(\"datasets/transformed_data_if.csv\")\n",
    "etf = pd.read_csv(\"datasets/transformed_data_etf.csv\")"
   ]
  }
 ],
 "metadata": {
  "kernelspec": {
   "display_name": "Python 3",
   "language": "python",
   "name": "python3"
  },
  "language_info": {
   "codemirror_mode": {
    "name": "ipython",
    "version": 3
   },
   "file_extension": ".py",
   "mimetype": "text/x-python",
   "name": "python",
   "nbconvert_exporter": "python",
   "pygments_lexer": "ipython3",
   "version": "3.9.6"
  }
 },
 "nbformat": 4,
 "nbformat_minor": 2
}
