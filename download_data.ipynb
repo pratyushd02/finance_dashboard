{
 "cells": [
  {
   "cell_type": "code",
   "execution_count": 1,
   "metadata": {},
   "outputs": [],
   "source": [
    "import yfinance as yf\n"
   ]
  },
  {
   "cell_type": "code",
   "execution_count": 7,
   "metadata": {},
   "outputs": [
    {
     "name": "stdout",
     "output_type": "stream",
     "text": [
      "[*********************100%***********************]  25 of 25 completed\n"
     ]
    }
   ],
   "source": [
    "mutual_funds = [\"VFIAX\", \"FXAIX\", \"TRBCX\", \"VTSAX\", \"FDGRX\", \"PRFDX\", \"VBTLX\", \"FSPSX\", \"AEPGX\", \"VWELX\", \"TIBIX\", \"VSGAX\", \"PRILX\", \"VIGRX\", \"FSSNX\", \"VGLT\", \"FIMVX\", \"VLUE\", \"VFSUX\", \"VEIPX\", \"FSKAX\", \"VYM\", \"VIG\", \"FPAWX\", \"VPMAX\"]\n",
    "\n",
    "\n",
    "mf = yf.download(mutual_funds, start=\"2023-01-01\" ,end=\"2024-12-01\")\n",
    "mf.to_csv(\"datasets/MutualFund.csv\")"
   ]
  },
  {
   "cell_type": "code",
   "execution_count": 2,
   "metadata": {},
   "outputs": [
    {
     "name": "stdout",
     "output_type": "stream",
     "text": [
      "[*********************100%***********************]  24 of 24 completed\n"
     ]
    }
   ],
   "source": [
    "index_funds = [\"VFINX\", \"SCHX\", \"VTI\", \"EEM\", \"FSKAX\", \"VO\", \"AGG\", \"VB\", \"SCHA\", \"IWM\", \"SPY\", \"QQQ\", \"VTI\", \"ACWX\", \"VEA\", \"VIG\", \"VYM\", \"XLF\", \"XLY\", \"XLC\", \"VXX\", \"VXZ\", \"VGK\", \"IJS\", \"VWO\",\"VIG\"]\n",
    "\n",
    "i_f = yf.download(index_funds, start=\"2023-01-01\" ,end=\"2024-12-01\")\n",
    "i_f.to_csv(\"datasets/IndexFund.csv\")"
   ]
  },
  {
   "cell_type": "code",
   "execution_count": 22,
   "metadata": {},
   "outputs": [
    {
     "name": "stdout",
     "output_type": "stream",
     "text": [
      "[*********************100%***********************]  25 of 25 completed\n"
     ]
    }
   ],
   "source": [
    "etfs = [\"SPY\", \"QQQ\", \"VTI\", \"ACWX\", \"VEA\", \"EEM\", \"DIA\", \"IJR\", \"IWM\", \"VWO\", \"VXF\", \"XLY\", \"XLC\", \"IYR\", \"IWF\", \"VTV\", \"VUG\", \"IYY\", \"XLI\", \"XLE\", \"XLB\", \"VYM\", \"GDX\", \"VGT\", \"VFH\"]\n",
    "\n",
    "etf = yf.download(etfs, start=\"2023-01-01\", end=\"2024-12-01\")\n",
    "etf.to_csv(\"datasets/ETF.csv\")"
   ]
  },
  {
   "cell_type": "code",
   "execution_count": null,
   "metadata": {},
   "outputs": [],
   "source": []
  }
 ],
 "metadata": {
  "kernelspec": {
   "display_name": "Python 3",
   "language": "python",
   "name": "python3"
  },
  "language_info": {
   "codemirror_mode": {
    "name": "ipython",
    "version": 3
   },
   "file_extension": ".py",
   "mimetype": "text/x-python",
   "name": "python",
   "nbconvert_exporter": "python",
   "pygments_lexer": "ipython3",
   "version": "3.9.6"
  }
 },
 "nbformat": 4,
 "nbformat_minor": 2
}
